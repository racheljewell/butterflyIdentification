{
 "cells": [
  {
   "cell_type": "markdown",
   "metadata": {},
   "source": [
    "# Exploring the Butterfly identification dataset"
   ]
  },
  {
   "cell_type": "code",
   "execution_count": 3,
   "metadata": {},
   "outputs": [],
   "source": [
    "from data_loading import load_testing_data\n",
    "import numpy as np"
   ]
  },
  {
   "cell_type": "markdown",
   "metadata": {},
   "source": [
    "## Loading the labels and images"
   ]
  },
  {
   "cell_type": "code",
   "execution_count": 2,
   "metadata": {},
   "outputs": [],
   "source": [
    "## Can this be done faster?\n",
    "\n",
    "labels, images = load_testing_data()"
   ]
  },
  {
   "cell_type": "markdown",
   "metadata": {},
   "source": [
    "### Finding unique label values and their indices"
   ]
  },
  {
   "cell_type": "code",
   "execution_count": 31,
   "metadata": {},
   "outputs": [],
   "source": [
    "vals, inverse, count = np.unique(labels, return_inverse=True,\n",
    "                              return_counts=True)\n",
    "\n",
    "\n",
    "indices = []\n",
    "for val in vals:\n",
    "    index = np.where(labels == val)\n",
    "    indices.append(index)\n"
   ]
  },
  {
   "cell_type": "markdown",
   "metadata": {},
   "source": [
    "### Some stats"
   ]
  },
  {
   "cell_type": "code",
   "execution_count": 37,
   "metadata": {},
   "outputs": [
    {
     "name": "stdout",
     "output_type": "stream",
     "text": [
      "Number of images:  6499\n",
      "Image shape:  (224, 224, 3)\n",
      "Number of unique labels:  75\n",
      "Average number of images per label:  86.65333333333334\n",
      "Max number of images per label:  131\n",
      "Min number of images per label:  71\n"
     ]
    }
   ],
   "source": [
    "print(\"Number of images: \", len(images))\n",
    "print(\"Image shape: \", images[0].shape)\n",
    "print(\"Number of unique labels: \", len(count))\n",
    "print(\"Average number of images per label: \", np.average(count))\n",
    "print(\"Max number of images per label: \", np.max(count))\n",
    "print(\"Min number of images per label: \", np.min(count))"
   ]
  }
 ],
 "metadata": {
  "kernelspec": {
   "display_name": "cv",
   "language": "python",
   "name": "python3"
  },
  "language_info": {
   "codemirror_mode": {
    "name": "ipython",
    "version": 3
   },
   "file_extension": ".py",
   "mimetype": "text/x-python",
   "name": "python",
   "nbconvert_exporter": "python",
   "pygments_lexer": "ipython3",
   "version": "3.11.4"
  }
 },
 "nbformat": 4,
 "nbformat_minor": 2
}
